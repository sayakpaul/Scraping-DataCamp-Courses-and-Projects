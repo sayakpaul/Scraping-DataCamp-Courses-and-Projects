{
 "cells": [
  {
   "cell_type": "markdown",
   "metadata": {},
   "source": [
    "Basic web-scrapping practice with `BeautifulSoup`. I was curious to gather all the names of DataCamp courses that are live as of now. This is just a starter notebook. There are lots of redundant codes as well which I will remove as I proceed. I will work more on it to improve upon my scrapping skills. "
   ]
  },
  {
   "cell_type": "code",
   "execution_count": 1,
   "metadata": {},
   "outputs": [],
   "source": [
    "# Dependencies\n",
    "import requests\n",
    "from bs4 import BeautifulSoup\n",
    "import pandas as pd\n",
    "from datetime import datetime as dt"
   ]
  },
  {
   "cell_type": "markdown",
   "metadata": {},
   "source": [
    "#### Courses available on the following topics:\n",
    "- tech:r \n",
    "- tech:python \n",
    "- tech:sql \n",
    "- tech:git \n",
    "- tech:shell \n",
    "- tech:spreadsheets"
   ]
  },
  {
   "cell_type": "code",
   "execution_count": 4,
   "metadata": {},
   "outputs": [],
   "source": [
    "# The main URL where all the course names and their descriptions can be found\n",
    "root_url = 'https://www.datacamp.com/courses/'"
   ]
  },
  {
   "cell_type": "code",
   "execution_count": 5,
   "metadata": {},
   "outputs": [],
   "source": [
    "# Necessary for scrapping\n",
    "headers = {'user-agent': 'Mozilla/5.0 (Windows NT 6.1) AppleWebKit/537.36 (KHTML, like Gecko) \\\n",
    "Chrome/71.0.3578.98 Safari/537.36'}"
   ]
  },
  {
   "cell_type": "code",
   "execution_count": 9,
   "metadata": {},
   "outputs": [],
   "source": [
    "# Function to scrape course names by topic\n",
    "def scrape_courses_by_topic(topic):\n",
    "    courses = []\n",
    "    url_to_be_scrapped = root_url + topic\n",
    "    print('Scrapping ' + url_to_be_scrapped)\n",
    "    page_content_per_topic = requests.get(url_to_be_scrapped, headers=headers)\n",
    "    soup = BeautifulSoup(page_content_per_topic.text, 'html.parser')\n",
    "    res = soup.find_all('div', attrs={'class': 'courses__explore-list row'})\n",
    "    for entry in res:\n",
    "        urls = entry.find_all('h4', attrs={'class': 'course-block__title'})\n",
    "        for url in urls:\n",
    "            courses.append(url.get_text())\n",
    "    print(\"Scrapping done for \" + topic +\"!\")\n",
    "    return courses"
   ]
  },
  {
   "cell_type": "markdown",
   "metadata": {},
   "source": [
    "> We start the scrapping process now. Starting with **R** first. "
   ]
  },
  {
   "cell_type": "markdown",
   "metadata": {},
   "source": [
    "### R"
   ]
  },
  {
   "cell_type": "code",
   "execution_count": 10,
   "metadata": {},
   "outputs": [
    {
     "name": "stdout",
     "output_type": "stream",
     "text": [
      "Scrapping https://www.datacamp.com/courses/tech:r\n",
      "Scrapping done for tech:r!\n",
      "Total number of live R courses 138\n"
     ]
    }
   ],
   "source": [
    "all_r_courses = scrape_courses_by_topic('tech:r')\n",
    "print('Total number of live R courses ' + str(len(all_r_courses)))"
   ]
  },
  {
   "cell_type": "markdown",
   "metadata": {},
   "source": [
    "### Python"
   ]
  },
  {
   "cell_type": "code",
   "execution_count": 11,
   "metadata": {},
   "outputs": [
    {
     "name": "stdout",
     "output_type": "stream",
     "text": [
      "Scrapping https://www.datacamp.com/courses/tech:python\n",
      "Scrapping done for tech:python!\n",
      "Total number of live Python courses - 63\n"
     ]
    }
   ],
   "source": [
    "all_python_courses = scrape_courses_by_topic('tech:python')\n",
    "print('Total number of live Python courses - ' + str(len(all_python_courses)))"
   ]
  },
  {
   "cell_type": "markdown",
   "metadata": {},
   "source": [
    "### SQL"
   ]
  },
  {
   "cell_type": "code",
   "execution_count": 13,
   "metadata": {},
   "outputs": [
    {
     "name": "stdout",
     "output_type": "stream",
     "text": [
      "Scrapping https://www.datacamp.com/courses/tech:sql\n",
      "Scrapping done for tech:sql!\n",
      "Total number of live SQL courses - 3\n"
     ]
    }
   ],
   "source": [
    "all_sql_courses = scrape_courses_by_topic('tech:sql')\n",
    "print('Total number of live SQL courses - ' + str(len(all_sql_courses)))"
   ]
  },
  {
   "cell_type": "markdown",
   "metadata": {},
   "source": [
    "### Git"
   ]
  },
  {
   "cell_type": "code",
   "execution_count": 14,
   "metadata": {},
   "outputs": [
    {
     "name": "stdout",
     "output_type": "stream",
     "text": [
      "Scrapping https://www.datacamp.com/courses/tech:git\n",
      "Scrapping done for tech:git!\n",
      "Total number of live Git courses - 1\n"
     ]
    }
   ],
   "source": [
    "all_git_courses = scrape_courses_by_topic('tech:git')\n",
    "print('Total number of live Git courses - ' + str(len(all_git_courses)))"
   ]
  },
  {
   "cell_type": "markdown",
   "metadata": {},
   "source": [
    "### Shell"
   ]
  },
  {
   "cell_type": "code",
   "execution_count": 15,
   "metadata": {},
   "outputs": [
    {
     "name": "stdout",
     "output_type": "stream",
     "text": [
      "Scrapping https://www.datacamp.com/courses/tech:shell\n",
      "Scrapping done for tech:shell!\n",
      "Total number of live Shell courses - 3\n"
     ]
    }
   ],
   "source": [
    "all_shell_courses = scrape_courses_by_topic('tech:shell')\n",
    "print('Total number of live Shell courses - ' + str(len(all_shell_courses)))"
   ]
  },
  {
   "cell_type": "markdown",
   "metadata": {},
   "source": [
    "### Spreadsheets"
   ]
  },
  {
   "cell_type": "code",
   "execution_count": 16,
   "metadata": {},
   "outputs": [
    {
     "name": "stdout",
     "output_type": "stream",
     "text": [
      "Scrapping https://www.datacamp.com/courses/tech:spreadsheets\n",
      "Scrapping done for tech:spreadsheets!\n",
      "Total number of live Shell courses - 4\n"
     ]
    }
   ],
   "source": [
    "all_spreadsheets_courses = scrape_courses_by_topic('tech:spreadsheets')\n",
    "print('Total number of live Shell courses - ' + str(len(all_spreadsheets_courses)))"
   ]
  },
  {
   "cell_type": "markdown",
   "metadata": {},
   "source": [
    "> Serializing the course names by topics to an Excel file."
   ]
  },
  {
   "cell_type": "code",
   "execution_count": 17,
   "metadata": {},
   "outputs": [],
   "source": [
    "r_courses = pd.DataFrame(data = all_r_courses, columns = ['Course Name'])\n",
    "r_courses['Topic Name'] = 'R'"
   ]
  },
  {
   "cell_type": "code",
   "execution_count": 18,
   "metadata": {},
   "outputs": [],
   "source": [
    "python_courses = pd.DataFrame(data = all_python_courses, columns = ['Course Name'])\n",
    "python_courses['Topic Name'] = 'Python'"
   ]
  },
  {
   "cell_type": "code",
   "execution_count": 19,
   "metadata": {},
   "outputs": [],
   "source": [
    "sql_courses = pd.DataFrame(data = all_sql_courses, columns = ['Course Name'])\n",
    "sql_courses['Topic Name'] = 'SQL'"
   ]
  },
  {
   "cell_type": "code",
   "execution_count": 20,
   "metadata": {},
   "outputs": [],
   "source": [
    "git_courses = pd.DataFrame(data = all_git_courses, columns = ['Course Name'])\n",
    "git_courses['Topic Name'] = 'Git'"
   ]
  },
  {
   "cell_type": "code",
   "execution_count": 24,
   "metadata": {},
   "outputs": [],
   "source": [
    "shell_courses = pd.DataFrame(data = all_shell_courses, columns = ['Course Name'])\n",
    "shell_courses['Topic Name'] = 'Shell'"
   ]
  },
  {
   "cell_type": "code",
   "execution_count": 21,
   "metadata": {},
   "outputs": [],
   "source": [
    "spreadsheet_courses = pd.DataFrame(data = all_spreadsheets_courses, columns = ['Course Name'])\n",
    "spreadsheet_courses['Topic Name'] = 'Spreadsheets'"
   ]
  },
  {
   "cell_type": "code",
   "execution_count": 25,
   "metadata": {},
   "outputs": [],
   "source": [
    "all_courses = pd.concat([r_courses,python_courses,sql_courses,git_courses,shell_courses,spreadsheet_courses])"
   ]
  },
  {
   "cell_type": "code",
   "execution_count": 26,
   "metadata": {},
   "outputs": [
    {
     "data": {
      "text/plain": [
       "212"
      ]
     },
     "execution_count": 26,
     "metadata": {},
     "output_type": "execute_result"
    }
   ],
   "source": [
    "len(all_courses)"
   ]
  },
  {
   "cell_type": "code",
   "execution_count": 27,
   "metadata": {},
   "outputs": [
    {
     "name": "stdout",
     "output_type": "stream",
     "text": [
      "File saved!\n"
     ]
    }
   ],
   "source": [
    "filename = 'DataCamp Courses as of ' + dt.now().strftime('%Y-%m-%d') + '.xlsx'\n",
    "writer = pd.ExcelWriter(filename)\n",
    "all_courses.to_excel(writer,'Sheet1',index=False)\n",
    "writer.save()\n",
    "print('File saved!')"
   ]
  }
 ],
 "metadata": {
  "kernelspec": {
   "display_name": "Python 3",
   "language": "python",
   "name": "python3"
  },
  "language_info": {
   "codemirror_mode": {
    "name": "ipython",
    "version": 3
   },
   "file_extension": ".py",
   "mimetype": "text/x-python",
   "name": "python",
   "nbconvert_exporter": "python",
   "pygments_lexer": "ipython3",
   "version": "3.6.5"
  },
  "latex_envs": {
   "LaTeX_envs_menu_present": true,
   "autoclose": false,
   "autocomplete": true,
   "bibliofile": "biblio.bib",
   "cite_by": "apalike",
   "current_citInitial": 1,
   "eqLabelWithNumbers": true,
   "eqNumInitial": 1,
   "hotkeys": {
    "equation": "Ctrl-E",
    "itemize": "Ctrl-I"
   },
   "labels_anchors": false,
   "latex_user_defs": false,
   "report_style_numbering": false,
   "user_envs_cfg": false
  },
  "toc": {
   "base_numbering": 1,
   "nav_menu": {},
   "number_sections": false,
   "sideBar": true,
   "skip_h1_title": false,
   "title_cell": "Table of Contents",
   "title_sidebar": "Contents",
   "toc_cell": false,
   "toc_position": {},
   "toc_section_display": true,
   "toc_window_display": false
  }
 },
 "nbformat": 4,
 "nbformat_minor": 2
}
