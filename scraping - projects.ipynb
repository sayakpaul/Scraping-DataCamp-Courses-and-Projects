{
 "cells": [
  {
   "cell_type": "code",
   "execution_count": 5,
   "metadata": {},
   "outputs": [],
   "source": [
    "# Dependencies\n",
    "import requests\n",
    "from bs4 import BeautifulSoup\n",
    "import pandas as pd\n",
    "from datetime import datetime as dt"
   ]
  },
  {
   "cell_type": "code",
   "execution_count": 6,
   "metadata": {},
   "outputs": [],
   "source": [
    "# The main URL where all the project names and their descriptions can be found\n",
    "root_url = 'https://www.datacamp.com/projects/'"
   ]
  },
  {
   "cell_type": "code",
   "execution_count": 7,
   "metadata": {},
   "outputs": [],
   "source": [
    "# Necessary for scrapping\n",
    "headers = {'user-agent': 'Mozilla/5.0 (Windows NT 6.1) AppleWebKit/537.36 (KHTML, like Gecko) \\\n",
    "Chrome/71.0.3578.98 Safari/537.36'}"
   ]
  },
  {
   "cell_type": "code",
   "execution_count": 202,
   "metadata": {},
   "outputs": [],
   "source": [
    "# Function to scrape project names by topic and creating a dataframe accordingly\n",
    "def create_dataframe_of_project_and_topic(topic):\n",
    "    projects = []\n",
    "    url_to_be_scrapped = root_url + topic\n",
    "    print('Scrapping ' + ''.join(topic.split(':')[1:]).upper() + ' projects')\n",
    "    page_content_per_topic = requests.get(url_to_be_scrapped, headers=headers)\n",
    "    soup = BeautifulSoup(page_content_per_topic.text, 'html.parser')\n",
    "    res = soup.find_all('h5', attrs={'class': 'dc-project-block__title'})\n",
    "    if len(res) == 0:\n",
    "        print('No projects found for ' + ''.join(topic.split(':')[1:]).upper())\n",
    "        return 'No projects found for ' + ''.join(topic.split(':')[1:]).upper()\n",
    "    else:\n",
    "        print('Scraping done! Creating the DataFrame.....')\n",
    "        for entry in res:\n",
    "            projects.append(entry.get_text())\n",
    "        projects_df = pd.DataFrame(data = projects, columns = ['Project Name'])\n",
    "        projects_df['Topic Name'] = ''.join(topic.split(':')[1:]).upper()\n",
    "        print('DataFrame created for ' + ''.join(topic.split(':')[1:]).upper() +' projects!')\n",
    "        return projects_df "
   ]
  },
  {
   "cell_type": "code",
   "execution_count": 203,
   "metadata": {},
   "outputs": [
    {
     "name": "stdout",
     "output_type": "stream",
     "text": [
      "Scrapping PYTHON projects\n",
      "Scraping done! Creating the DataFrame.....\n",
      "DataFrame created for PYTHON projects!\n",
      "Scrapping R projects\n",
      "Scraping done! Creating the DataFrame.....\n",
      "DataFrame created for R projects!\n",
      "Scrapping SQL projects\n",
      "Scraping done! Creating the DataFrame.....\n",
      "DataFrame created for SQL projects!\n",
      "Scrapping GIT projects\n",
      "No projects found for GIT\n",
      "Scrapping SHELL projects\n",
      "No projects found for SHELL\n",
      "Scrapping SPREADSHEETS projects\n",
      "No projects found for SPREADSHEETS\n"
     ]
    }
   ],
   "source": [
    "python_projects = create_dataframe_of_project_and_topic('tech:python')\n",
    "r_projects = create_dataframe_of_project_and_topic('tech:r')\n",
    "sql_projects = create_dataframe_of_project_and_topic('tech:sql')\n",
    "git_projects = create_dataframe_of_project_and_topic('tech:git')\n",
    "shell_projects = create_dataframe_of_project_and_topic('tech:shell')\n",
    "spreadsheets_projects = create_dataframe_of_project_and_topic('tech:spreadsheets')"
   ]
  },
  {
   "cell_type": "code",
   "execution_count": 208,
   "metadata": {},
   "outputs": [],
   "source": [
    "projects = [python_projects, r_projects, sql_projects, git_projects, shell_projects, spreadsheets_projects]\n",
    "pd_object = [project for project in projects if type(project) is not str]"
   ]
  },
  {
   "cell_type": "code",
   "execution_count": 210,
   "metadata": {},
   "outputs": [
    {
     "name": "stdout",
     "output_type": "stream",
     "text": [
      "File saved!\n"
     ]
    }
   ],
   "source": [
    "projects = pd.concat(pd_object)\n",
    "filename = 'DataCamp Projects as of ' + dt.now().strftime('%Y-%m-%d') + '.xlsx'\n",
    "writer = pd.ExcelWriter(filename)\n",
    "projects.to_excel(writer,'Sheet1',index=False)\n",
    "writer.save()\n",
    "print('File saved!')"
   ]
  }
 ],
 "metadata": {
  "kernelspec": {
   "display_name": "Python 3",
   "language": "python",
   "name": "python3"
  },
  "language_info": {
   "codemirror_mode": {
    "name": "ipython",
    "version": 3
   },
   "file_extension": ".py",
   "mimetype": "text/x-python",
   "name": "python",
   "nbconvert_exporter": "python",
   "pygments_lexer": "ipython3",
   "version": "3.6.5"
  },
  "latex_envs": {
   "LaTeX_envs_menu_present": true,
   "autoclose": false,
   "autocomplete": true,
   "bibliofile": "biblio.bib",
   "cite_by": "apalike",
   "current_citInitial": 1,
   "eqLabelWithNumbers": true,
   "eqNumInitial": 1,
   "hotkeys": {
    "equation": "Ctrl-E",
    "itemize": "Ctrl-I"
   },
   "labels_anchors": false,
   "latex_user_defs": false,
   "report_style_numbering": false,
   "user_envs_cfg": false
  },
  "toc": {
   "base_numbering": 1,
   "nav_menu": {},
   "number_sections": true,
   "sideBar": true,
   "skip_h1_title": false,
   "title_cell": "Table of Contents",
   "title_sidebar": "Contents",
   "toc_cell": false,
   "toc_position": {},
   "toc_section_display": true,
   "toc_window_display": false
  }
 },
 "nbformat": 4,
 "nbformat_minor": 2
}
